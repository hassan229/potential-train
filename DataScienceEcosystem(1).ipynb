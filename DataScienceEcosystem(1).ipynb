{
 "cells": [
  {
   "cell_type": "markdown",
   "id": "75fa8ca5",
   "metadata": {},
   "source": [
    "# Data Science Tools and Ecosystem"
   ]
  },
  {
   "cell_type": "markdown",
   "id": "44fc8152",
   "metadata": {},
   "source": [
    "In this notebook, Data Science Tools and Ecosystem are summarized."
   ]
  },
  {
   "cell_type": "markdown",
   "id": "c57a2cc1",
   "metadata": {},
   "source": [
    "**Objectives:**"
   ]
  },
  {
   "cell_type": "markdown",
   "id": "7e398055",
   "metadata": {},
   "source": [
    "* Jupyter Notebooks are used in Data Science for recording experiments and projects.\n",
    "* Jupyter Lab is compatible with many files and Data Science languages.\n",
    "* How to run, delete, and insert a code cell in Jupyter Notebooks."
   ]
  },
  {
   "cell_type": "markdown",
   "id": "0624f872",
   "metadata": {},
   "source": [
    "ordered list for 3 common language used for data-science:\n",
    "\n",
    "\n",
    "1.Python: Python is one of the most popular languages for data science due to its simplicity, flexibility, and extensive libraries. Python has a large number of libraries such as NumPy, Pandas, Matplotlib, and Scikit-learn that are widely used for data cleaning, data analysis, machine learning, and data visualization.\n",
    "\n",
    "2.R: R is another popular language for data science, particularly for statistical analysis. R has a vast collection of packages and libraries such as ggplot2, dplyr, and tidyr that can be used for data manipulation, visualization, and modeling. R also has a great community support and is used extensively in academia.\n",
    "\n",
    "3.SQL: SQL (Structured Query Language) is a domain-specific language used for managing relational databases. SQL is widely used in data science to extract, transform, and load (ETL) data from databases. It is also used for data querying and aggregation, and is an essential skill for any data scientist who works with relational databases.\n",
    "\n"
   ]
  },
  {
   "cell_type": "markdown",
   "id": "66235e43",
   "metadata": {},
   "source": [
    "Some of the commonly used libraries used by Data Scientists include:\n",
    "    Here are three commonly used libraries in data science:\n",
    "\n",
    "1.NumPy: NumPy is a Python library that provides support for multidimensional arrays and matrices, as well as a large collection of mathematical functions to operate on them. NumPy is widely used for numerical computing and scientific computing in Python.\n",
    "\n",
    "2.Pandas: Pandas is another popular Python library for data science, used for data manipulation, data analysis, and data visualization. Pandas provides easy-to-use data structures such as DataFrame and Series, which can handle tabular data and time-series data. Pandas has a lot of functions for data cleaning, data manipulation, and data aggregation.\n",
    "\n",
    "3.Scikit-learn: Scikit-learn is a Python library for machine learning that provides a wide range of algorithms for supervised and unsupervised learning, as well as tools for model selection and evaluation. Scikit-learn is easy to use and integrates well with other Python libraries such as NumPy and Pandas.\n",
    "\n"
   ]
  },
  {
   "cell_type": "markdown",
   "id": "61b88e5b",
   "metadata": {},
   "source": [
    "Data Science Tools.\n",
    "\n",
    "1.jupyter notebook\n",
    "\n",
    "2.spyder \n",
    "\n",
    "3.Rstudio\n"
   ]
  },
  {
   "cell_type": "markdown",
   "id": "0b23d237",
   "metadata": {},
   "source": [
    "### Below are a few examples of evaluating arithmetic expressions in Python."
   ]
  },
  {
   "cell_type": "code",
   "execution_count": 1,
   "id": "61fc262f",
   "metadata": {},
   "outputs": [
    {
     "data": {
      "text/plain": [
       "17"
      ]
     },
     "execution_count": 1,
     "metadata": {},
     "output_type": "execute_result"
    }
   ],
   "source": [
    "#This a simple arithmetic expression to mutiply then add integers\n",
    "(3*4)+5"
   ]
  },
  {
   "cell_type": "code",
   "execution_count": 2,
   "id": "2ea93003",
   "metadata": {},
   "outputs": [
    {
     "data": {
      "text/plain": [
       "3.3333333333333335"
      ]
     },
     "execution_count": 2,
     "metadata": {},
     "output_type": "execute_result"
    }
   ],
   "source": [
    "#This will convert 200 minutes to hours by diving by 60\n",
    "200/60"
   ]
  },
  {
   "cell_type": "markdown",
   "id": "69ab136b",
   "metadata": {},
   "source": [
    "## Author\n",
    "Hassan Ahmed"
   ]
  },
  {
   "cell_type": "code",
   "execution_count": null,
   "id": "c0df3e21",
   "metadata": {},
   "outputs": [],
   "source": []
  }
 ],
 "metadata": {
  "kernelspec": {
   "display_name": "Python 3 (ipykernel)",
   "language": "python",
   "name": "python3"
  },
  "language_info": {
   "codemirror_mode": {
    "name": "ipython",
    "version": 3
   },
   "file_extension": ".py",
   "mimetype": "text/x-python",
   "name": "python",
   "nbconvert_exporter": "python",
   "pygments_lexer": "ipython3",
   "version": "3.10.9"
  }
 },
 "nbformat": 4,
 "nbformat_minor": 5
}
